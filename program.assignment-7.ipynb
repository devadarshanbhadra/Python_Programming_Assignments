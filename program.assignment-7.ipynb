{
 "cells": [
  {
   "cell_type": "markdown",
   "id": "96d1bd25-5564-4fd6-ac58-dac87d06c3fd",
   "metadata": {},
   "source": [
    "1. Write a Python Program to find sum of array?"
   ]
  },
  {
   "cell_type": "code",
   "execution_count": 9,
   "id": "9e776768-bdb1-4138-8641-65cd0bbf7281",
   "metadata": {},
   "outputs": [
    {
     "name": "stdout",
     "output_type": "stream",
     "text": [
      "sum:  1\n",
      "sum:  3\n",
      "sum:  6\n",
      "sum:  10\n",
      "sum:  15\n",
      "sum:  21\n",
      "sum:  28\n",
      "sum:  36\n",
      "sum:  45\n",
      "45\n"
     ]
    }
   ],
   "source": [
    "sum = 0\n",
    "arr = [1,2,3,4,5,6,7,8,9]\n",
    "for i in range(0,len(arr)):\n",
    "    sum+= arr[i]\n",
    "    print(\"sum: \", sum)\n",
    "print(sum)"
   ]
  },
  {
   "cell_type": "markdown",
   "id": "3a481eae-6ad9-4f0f-a98f-25a8d8c3589e",
   "metadata": {},
   "source": [
    "2. Write a Python Program to find largest element in an array?"
   ]
  },
  {
   "cell_type": "code",
   "execution_count": 22,
   "id": "3fda541d-bc1e-4706-86a8-75d08fc120bd",
   "metadata": {},
   "outputs": [
    {
     "name": "stdout",
     "output_type": "stream",
     "text": [
      "44\n",
      "largest number in [1, 2, 5, 7, 44, 10, 47] is 47\n"
     ]
    }
   ],
   "source": [
    "c = 0\n",
    "arr = [1,2,5,7,44,10,47]\n",
    "for i in range(0,len(arr)):\n",
    "    if c>arr[i]:\n",
    "        print(c)\n",
    "    else:\n",
    "        c = arr[i] \n",
    "print(f\"largest number in {arr} is {c}\")"
   ]
  },
  {
   "cell_type": "markdown",
   "id": "0eba98c2-26f2-45ec-af27-ac3ebebec866",
   "metadata": {},
   "source": [
    "3. Write a Python Program for array rotation?"
   ]
  },
  {
   "cell_type": "code",
   "execution_count": 23,
   "id": "de38b00e-230c-43e9-8580-41acdf7d1679",
   "metadata": {},
   "outputs": [
    {
     "name": "stdout",
     "output_type": "stream",
     "text": [
      "9\n",
      "77\n",
      "4\n",
      "3\n",
      "2\n"
     ]
    }
   ],
   "source": [
    "\n",
    "arr = [1,2,3,4,77,9]\n",
    "rot = []\n",
    "l = len(arr) -1\n",
    "for i in range(l , 0, -1):\n",
    "  print(arr[i])\n"
   ]
  },
  {
   "cell_type": "markdown",
   "id": "1ed41446-4f07-433d-a283-38ac7dde44b7",
   "metadata": {},
   "source": [
    "4. Write a Python Program to Split the array and add the first part to the end?"
   ]
  },
  {
   "cell_type": "code",
   "execution_count": 24,
   "id": "8392bc07-60c6-47f0-8ed1-1855fe715333",
   "metadata": {},
   "outputs": [
    {
     "name": "stdin",
     "output_type": "stream",
     "text": [
      "Enter the lenth of arr :  6\n",
      " 6\n",
      " 10\n",
      " 5\n",
      " 4\n",
      " 3\n",
      " 14\n"
     ]
    },
    {
     "name": "stdout",
     "output_type": "stream",
     "text": [
      "Arr is  [6, 10, 5, 4, 3, 14]\n"
     ]
    },
    {
     "name": "stdin",
     "output_type": "stream",
     "text": [
      "Enter Rotation Right/Left :  right\n",
      "Enter the number of elements to rotate  :  5\n"
     ]
    },
    {
     "name": "stdout",
     "output_type": "stream",
     "text": [
      "After right rotation :  [10, 5, 4, 3, 14, 6]\n"
     ]
    }
   ],
   "source": [
    "l = int(input(\"Enter the lenth of arr : \"))\n",
    "arr = []\n",
    "\n",
    "for i in range(l):\n",
    "    arr.append(int(input()))\n",
    "print(\"Arr is \",arr)\n",
    "rotation = input(\"Enter Rotation Right/Left : \")\n",
    "noro = int(input(\"Enter the number of elements to rotate  : \"))\n",
    "if noro > l:\n",
    "    print(\"can not rotate as elements to rotate is larger then arr length\")\n",
    "else:\n",
    "    rarr = []\n",
    "    if rotation.upper() == \"RIGHT\":\n",
    "        rarr[:] = arr[-noro:] + arr[:(l-noro)]\n",
    "        print(\"After right rotation : \",rarr)\n",
    "    elif rotation.upper() == \"LEFT\":\n",
    "        rarr[:] = arr[noro:l] + arr[:noro] \n",
    "        print(\"After Left rotation : \",rarr)\n",
    "    else:\n",
    "        print(\"Wrong Entry\")"
   ]
  },
  {
   "cell_type": "markdown",
   "id": "0293db7d-b239-4ddf-b809-8c88228d175e",
   "metadata": {},
   "source": [
    "5. Write a Python Program to check if given array is Monotonic?"
   ]
  },
  {
   "cell_type": "code",
   "execution_count": 25,
   "id": "160991a1-abb7-49cd-9a0f-266f47f87211",
   "metadata": {},
   "outputs": [
    {
     "name": "stdin",
     "output_type": "stream",
     "text": [
      "Enter the lenth of your list :  5\n",
      " 2\n",
      " 3\n",
      " 4\n",
      " 5\n",
      " 6\n"
     ]
    },
    {
     "name": "stdout",
     "output_type": "stream",
     "text": [
      "The List is  [2, 3, 4, 5, 6]\n",
      "Monotonic\n"
     ]
    }
   ],
   "source": [
    "l = int(input(\"Enter the lenth of your list : \"))\n",
    "arr = []\n",
    "\n",
    "for i in range(l):\n",
    "    arr.append(int(input()))\n",
    "print(\"The List is \",arr)\n",
    "\n",
    "if all((arr[i] <= arr[i+1] for i in range(l-1)) or (arr[i] >= lst[i+1] for i in range(l-1))):\n",
    "    print(\"Monotonic\")\n",
    "else:\n",
    "    print(\"Not Monotonic\")"
   ]
  },
  {
   "cell_type": "code",
   "execution_count": null,
   "id": "3ba38f90-326d-4362-8060-4050deca0f3f",
   "metadata": {},
   "outputs": [],
   "source": []
  }
 ],
 "metadata": {
  "kernelspec": {
   "display_name": "Python 3 (ipykernel)",
   "language": "python",
   "name": "python3"
  },
  "language_info": {
   "codemirror_mode": {
    "name": "ipython",
    "version": 3
   },
   "file_extension": ".py",
   "mimetype": "text/x-python",
   "name": "python",
   "nbconvert_exporter": "python",
   "pygments_lexer": "ipython3",
   "version": "3.10.6"
  }
 },
 "nbformat": 4,
 "nbformat_minor": 5
}
