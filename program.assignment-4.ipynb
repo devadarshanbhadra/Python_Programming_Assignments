{
 "cells": [
  {
   "cell_type": "markdown",
   "id": "bd9a8bae-ea21-4ea9-9cc4-335cff15799f",
   "metadata": {},
   "source": [
    "1. Write a Python Program to Find the Factorial of a Number?"
   ]
  },
  {
   "cell_type": "code",
   "execution_count": 13,
   "id": "a2958c96-c52f-45af-a707-0417e728906d",
   "metadata": {},
   "outputs": [
    {
     "name": "stdin",
     "output_type": "stream",
     "text": [
      "enter a number 7\n"
     ]
    },
    {
     "name": "stdout",
     "output_type": "stream",
     "text": [
      "factorial of the 7 is: 5040 \n"
     ]
    }
   ],
   "source": [
    "x = int(input(\"enter a number\"))\n",
    "factorial = 1\n",
    "if x < 0:\n",
    "        print(\"factorial for negative number is not possible\")\n",
    "elif x == 0:\n",
    "    print(\"factorial for 0 is 1\")\n",
    "else:\n",
    "    for i in range(1,x+1):\n",
    "        factorial = factorial * i\n",
    "print(f\"factorial of the {x} is: {factorial} \")"
   ]
  },
  {
   "cell_type": "markdown",
   "id": "9d153b8d-7f63-4d5e-b409-41613c889fcf",
   "metadata": {},
   "source": [
    "2. Write a Python Program to Display the multiplication Table?"
   ]
  },
  {
   "cell_type": "code",
   "execution_count": 28,
   "id": "143ba45f-a851-425f-a671-038a7d1ffdfc",
   "metadata": {},
   "outputs": [
    {
     "name": "stdin",
     "output_type": "stream",
     "text": [
      "enter a number 2\n"
     ]
    },
    {
     "name": "stdout",
     "output_type": "stream",
     "text": [
      "multiplication table of 2 is:-\n",
      " 2 x 1 is = 2\n",
      " 2 x 2 is = 4\n",
      " 2 x 3 is = 6\n",
      " 2 x 4 is = 8\n",
      " 2 x 5 is = 10\n",
      " 2 x 6 is = 12\n",
      " 2 x 7 is = 14\n",
      " 2 x 8 is = 16\n",
      " 2 x 9 is = 18\n",
      " 2 x 10 is = 20\n"
     ]
    }
   ],
   "source": [
    "x = int(input(\"enter a number\"))\n",
    "print(\"multiplication table of 2 is:-\")\n",
    "for i in range(1,11):\n",
    "     num = x*i\n",
    "     \n",
    "     print(f\" {x} x {i} is = {num}\")\n",
    "    "
   ]
  },
  {
   "cell_type": "markdown",
   "id": "28bd1ae4-c8e9-42dc-8824-b1f9c1314ded",
   "metadata": {},
   "source": [
    "3. Write a Python Program to Print the Fibonacci sequence?"
   ]
  },
  {
   "cell_type": "code",
   "execution_count": 31,
   "id": "4686ac8e-06a2-4d33-b33b-1c52e30280c8",
   "metadata": {},
   "outputs": [],
   "source": [
    "def Fibonacci(n):\n",
    "    a = 1\n",
    "    b = 1\n",
    "    l = []\n",
    "    for i in range(n):\n",
    "        l.append(a)\n",
    "        a, b=b , a+b\n",
    "    return l"
   ]
  },
  {
   "cell_type": "code",
   "execution_count": 33,
   "id": "5cfeabec-151a-456e-84de-c649b1c3d452",
   "metadata": {},
   "outputs": [
    {
     "data": {
      "text/plain": [
       "[1, 1, 2, 3, 5, 8, 13, 21, 34, 55]"
      ]
     },
     "execution_count": 33,
     "metadata": {},
     "output_type": "execute_result"
    }
   ],
   "source": [
    "Fibonacci(10)"
   ]
  },
  {
   "cell_type": "markdown",
   "id": "5c36d33b-3baa-4074-9f53-3f8996b1596e",
   "metadata": {},
   "source": [
    "4. Write a Python Program to Check Armstrong Number?"
   ]
  },
  {
   "cell_type": "code",
   "execution_count": 47,
   "id": "f5105cf1-220f-43c0-8dd9-d811619a6aba",
   "metadata": {},
   "outputs": [
    {
     "name": "stdin",
     "output_type": "stream",
     "text": [
      "Enter the number :  371\n"
     ]
    },
    {
     "name": "stdout",
     "output_type": "stream",
     "text": [
      "Number is armstrong number\n"
     ]
    }
   ],
   "source": [
    "x = int(input(\"Enter the number : \"))\n",
    "\n",
    "power = len(str(x))\n",
    "\n",
    "y = x\n",
    "sum = 0\n",
    "while y > 0:\n",
    "    digit = y % 10\n",
    "    sum = sum + digit ** power\n",
    "    y = y//10\n",
    "if x == sum :\n",
    "    print(\"Number is armstrong number\")\n",
    "else:\n",
    "    print(\"Not an armstrong number\")"
   ]
  },
  {
   "cell_type": "markdown",
   "id": "2d5c2634-6c35-4017-a397-d4fb11f947bf",
   "metadata": {},
   "source": [
    "5. Write a Python Program to Find Armstrong Number in an Interval?"
   ]
  },
  {
   "cell_type": "code",
   "execution_count": 48,
   "id": "d6161c3a-85f6-496b-b302-5d08ab023cea",
   "metadata": {},
   "outputs": [
    {
     "name": "stdin",
     "output_type": "stream",
     "text": [
      "Low no :  100\n",
      "Up no :  1000\n"
     ]
    },
    {
     "name": "stdout",
     "output_type": "stream",
     "text": [
      "153\n",
      "370\n",
      "371\n",
      "407\n"
     ]
    }
   ],
   "source": [
    "x = int(input(\"Low no : \"))\n",
    "y = int(input(\"Up no : \"))\n",
    "\n",
    "\n",
    "for i in range(x,y+1):\n",
    "    power = len(str(i))\n",
    "    temp = i\n",
    "    sum = 0\n",
    "    while temp > 0:\n",
    "        digit = temp % 10\n",
    "        sum = sum + digit ** power\n",
    "        temp = temp//10\n",
    "    if i == sum :\n",
    "        print(i)"
   ]
  },
  {
   "cell_type": "markdown",
   "id": "fbddb89a-95e7-4ef2-bb21-04af392daa32",
   "metadata": {},
   "source": [
    "6. Write a Python Program to Find the Sum of Natural Numbers?"
   ]
  },
  {
   "cell_type": "code",
   "execution_count": 56,
   "id": "26e0d4e2-1de9-4994-baa8-b3810f2d8036",
   "metadata": {},
   "outputs": [
    {
     "name": "stdin",
     "output_type": "stream",
     "text": [
      "enter the number 10\n"
     ]
    },
    {
     "name": "stdout",
     "output_type": "stream",
     "text": [
      "sum of natural numbers upto 10 = 55\n"
     ]
    }
   ],
   "source": [
    "x = int(input(\"enter the number\"))\n",
    "sum = 0\n",
    "for i in range(0,x+1):\n",
    "   sum += i\n",
    "print(f\"sum of natural numbers upto {x} = {sum}\")"
   ]
  }
 ],
 "metadata": {
  "kernelspec": {
   "display_name": "Python 3 (ipykernel)",
   "language": "python",
   "name": "python3"
  },
  "language_info": {
   "codemirror_mode": {
    "name": "ipython",
    "version": 3
   },
   "file_extension": ".py",
   "mimetype": "text/x-python",
   "name": "python",
   "nbconvert_exporter": "python",
   "pygments_lexer": "ipython3",
   "version": "3.10.6"
  }
 },
 "nbformat": 4,
 "nbformat_minor": 5
}
