{
 "cells": [
  {
   "cell_type": "markdown",
   "id": "f4ac542c-fec2-4731-a016-03624557a53e",
   "metadata": {},
   "source": [
    "1. Write a Python Program to Find LCM?"
   ]
  },
  {
   "cell_type": "code",
   "execution_count": 7,
   "id": "0fc8fc0a-d619-440a-8f78-31d713c852ca",
   "metadata": {},
   "outputs": [
    {
     "name": "stdin",
     "output_type": "stream",
     "text": [
      "enter number1 36\n",
      "enter number2 12\n"
     ]
    },
    {
     "name": "stdout",
     "output_type": "stream",
     "text": [
      "The lcm of two numbers: 36 and 12 = 36\n"
     ]
    }
   ],
   "source": [
    "x = int(input(\"enter number1\"))\n",
    "y = int(input(\"enter number2\"))\n",
    "if x>y:\n",
    "    greater = x\n",
    "else:\n",
    "    greater = y\n",
    "while(True):\n",
    "    if greater % x == 0 and greater % y == 0:\n",
    "        lcm = greater\n",
    "        break\n",
    "\n",
    "print(f\"The lcm of two numbers: {x} and {y} = {lcm}\")"
   ]
  },
  {
   "cell_type": "markdown",
   "id": "0127d5f9-81cb-44b0-9650-70410e078193",
   "metadata": {},
   "source": [
    "2. Write a Python Program to Find HCF?"
   ]
  },
  {
   "cell_type": "code",
   "execution_count": 12,
   "id": "8551232d-ad64-4d11-a676-df1bd91a9ebe",
   "metadata": {},
   "outputs": [
    {
     "name": "stdin",
     "output_type": "stream",
     "text": [
      "enter a number1 36\n",
      "enter a number2 12\n"
     ]
    },
    {
     "name": "stdout",
     "output_type": "stream",
     "text": [
      "The hcf of two numbers:- 36 , 12 = 12\n"
     ]
    }
   ],
   "source": [
    "x = int(input(\"enter a number1\"))\n",
    "y = int(input(\"enter a number2\"))\n",
    "\n",
    "if x<y:\n",
    "    small = x\n",
    "else:\n",
    "    small = y\n",
    "hcf = 0\n",
    "for i in range(1,small+1):\n",
    "    if x%i == 0 and y%i == 0:\n",
    "        hcf = i\n",
    "print(f\"The hcf of two numbers:- {x} , {y} = {hcf}\")"
   ]
  },
  {
   "cell_type": "markdown",
   "id": "5a835449-764b-4354-8155-543061459012",
   "metadata": {},
   "source": [
    "3. Write a Python Program to Convert Decimal to Binary, Octal and Hexadecimal?"
   ]
  },
  {
   "cell_type": "code",
   "execution_count": 16,
   "id": "9f42f6d3-e967-49e8-ac85-04c9a50671d1",
   "metadata": {},
   "outputs": [
    {
     "name": "stdin",
     "output_type": "stream",
     "text": [
      "enter the number 44\n"
     ]
    },
    {
     "name": "stdout",
     "output_type": "stream",
     "text": [
      "44 in binary:  0b101100\n",
      "44 in octal:  0o54\n",
      "44 in hexadecimal:  0x2c\n"
     ]
    }
   ],
   "source": [
    "x = int(input(\"enter the number\"))\n",
    "print(x, \"in binary: \", bin(x))\n",
    "print(x, \"in octal: \", oct(x))\n",
    "print(x, \"in hexadecimal: \", hex(x))"
   ]
  },
  {
   "cell_type": "markdown",
   "id": "c810ca3a-5696-4e3a-9424-bbfa5b001808",
   "metadata": {},
   "source": [
    "4. Write a Python Program To Find ASCII value of a character?"
   ]
  },
  {
   "cell_type": "code",
   "execution_count": 19,
   "id": "d10503e3-cef2-4a15-a1cf-9d5ec4a4fcff",
   "metadata": {},
   "outputs": [
    {
     "name": "stdin",
     "output_type": "stream",
     "text": [
      "enter a charatcter b\n"
     ]
    },
    {
     "name": "stdout",
     "output_type": "stream",
     "text": [
      "Ascii value of b is 98\n"
     ]
    }
   ],
   "source": [
    "str = input(\"enter a charatcter\")\n",
    "print(\"Ascii value of {} is {}\".format(str,ord(str)))"
   ]
  },
  {
   "cell_type": "code",
   "execution_count": 20,
   "id": "d1fa0721-06c4-4a02-bd1e-4cf679233178",
   "metadata": {},
   "outputs": [
    {
     "name": "stdin",
     "output_type": "stream",
     "text": [
      "enter a charatcter b\n"
     ]
    },
    {
     "name": "stdout",
     "output_type": "stream",
     "text": [
      "Ascii value of b is 98\n"
     ]
    }
   ],
   "source": [
    "str = input(\"enter a charatcter\")\n",
    "print(f\"Ascii value of {str} is {ord(str)}\")"
   ]
  },
  {
   "cell_type": "markdown",
   "id": "8f8e1d9c-d843-412f-b252-f1c60f014d6d",
   "metadata": {},
   "source": [
    "5. Write a Python Program to Make a Simple Calculator with 4 basic mathematical operations?"
   ]
  },
  {
   "cell_type": "code",
   "execution_count": 24,
   "id": "875e1bea-a06d-465e-8365-924381d4ad07",
   "metadata": {},
   "outputs": [
    {
     "name": "stdin",
     "output_type": "stream",
     "text": [
      "Enter num1 : 5\n",
      "Enter num2 : 6\n",
      "Enter + to add : \n",
      "Enter - to Sub :\n",
      "Enter * to multi :\n",
      "Enter / to div :  +\n"
     ]
    },
    {
     "name": "stdout",
     "output_type": "stream",
     "text": [
      "5.0 + 6.0 = 11.0\n"
     ]
    }
   ],
   "source": [
    "x = float(input(\"Enter num1 :\"))\n",
    "y = float(input(\"Enter num2 :\"))\n",
    "\n",
    "op = input(\"Enter + to add : \\nEnter - to Sub :\\nEnter * to multi :\\nEnter / to div : \") \n",
    "\n",
    "add = x + y\n",
    "sub = x - y\n",
    "mul = x * y\n",
    "\n",
    "\n",
    "if op == \"+\":\n",
    "    print(\"{} + {} = {}\".format(x,y,add))\n",
    "elif op == \"-\":\n",
    "    print(\"{} - {} = {}\".format(x,y,sub))\n",
    "elif op == \"*\":\n",
    "    print(\"{} * {} = {}\".format(x,y,mul))\n",
    "elif op == \"/\":\n",
    "    if num1 == 0 or num2 == 0:\n",
    "        print(\"Division with zero is not possible\")\n",
    "    else:\n",
    "        div = x / y\n",
    "        print(\"{} / {} = {}\".format(x,y,div))\n",
    "else:\n",
    "    print(\"Invalid input\")"
   ]
  },
  {
   "cell_type": "code",
   "execution_count": null,
   "id": "bb5ad134-56d2-4a95-a7cf-645a235c73f2",
   "metadata": {},
   "outputs": [],
   "source": []
  }
 ],
 "metadata": {
  "kernelspec": {
   "display_name": "Python 3 (ipykernel)",
   "language": "python",
   "name": "python3"
  },
  "language_info": {
   "codemirror_mode": {
    "name": "ipython",
    "version": 3
   },
   "file_extension": ".py",
   "mimetype": "text/x-python",
   "name": "python",
   "nbconvert_exporter": "python",
   "pygments_lexer": "ipython3",
   "version": "3.10.6"
  }
 },
 "nbformat": 4,
 "nbformat_minor": 5
}
