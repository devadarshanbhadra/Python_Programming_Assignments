{
 "cells": [
  {
   "cell_type": "markdown",
   "id": "0ffa8f44-25f8-45b8-81f0-b1c7ef578ce9",
   "metadata": {},
   "source": [
    "1. Write a Python Program to Display Fibonacci Sequence Using Recursion?"
   ]
  },
  {
   "cell_type": "code",
   "execution_count": 1,
   "id": "e34560db-84d3-41fe-8ce5-f0154d7a12f4",
   "metadata": {},
   "outputs": [
    {
     "name": "stdin",
     "output_type": "stream",
     "text": [
      "input no :  6\n"
     ]
    },
    {
     "name": "stdout",
     "output_type": "stream",
     "text": [
      "0 1 1 2 3 5 "
     ]
    }
   ],
   "source": [
    "def recurfib(n):\n",
    "    if n<=1:\n",
    "        return n\n",
    "    else:\n",
    "        return recurfib(n-1) + recurfib(n-2)\n",
    "\n",
    "num = int(input(\"input no : \"))\n",
    "\n",
    "if num <=0:\n",
    "    print(\"Please provide positive no.\")\n",
    "\n",
    "else:\n",
    "    for i in range(num):\n",
    "        print(recurfib(i) , end=\" \")"
   ]
  },
  {
   "cell_type": "markdown",
   "id": "e284a91c-de77-470d-846d-22c887eaebb2",
   "metadata": {},
   "source": [
    "2. Write a Python Program to Find Factorial of Number Using Recursion?"
   ]
  },
  {
   "cell_type": "code",
   "execution_count": 2,
   "id": "81a3a236-732b-4b74-8081-f232302a82f5",
   "metadata": {},
   "outputs": [
    {
     "name": "stdin",
     "output_type": "stream",
     "text": [
      "input a no :  5\n"
     ]
    },
    {
     "name": "stdout",
     "output_type": "stream",
     "text": [
      "120\n"
     ]
    }
   ],
   "source": [
    "def fact(n):\n",
    "    if n==0:\n",
    "        return 1\n",
    "    else:\n",
    "        return n * fact(n-1)\n",
    "\n",
    "num = int(input(\"input a no : \"))\n",
    "\n",
    "if num<0:\n",
    "    print(\"Enter positive no.\")\n",
    "else:\n",
    "    \n",
    "        print(fact(num))"
   ]
  },
  {
   "cell_type": "markdown",
   "id": "330b26a9-16eb-4fe8-82b3-0b3e8376e86f",
   "metadata": {},
   "source": [
    "3. Write a Python Program to calculate your Body Mass Index?"
   ]
  },
  {
   "cell_type": "code",
   "execution_count": 10,
   "id": "34470892-7ffe-48eb-a2bf-720561370879",
   "metadata": {},
   "outputs": [
    {
     "name": "stdin",
     "output_type": "stream",
     "text": [
      "enter your height in ft:  5.7\n",
      "enter your weight in kg:  68\n"
     ]
    },
    {
     "name": "stdout",
     "output_type": "stream",
     "text": [
      " body mass index(bmi) is: 2\n"
     ]
    }
   ],
   "source": [
    "h = float(input(\"enter your height in ft: \"))\n",
    "w = float(input(\"enter your weight in kg: \"))\n",
    "bmi = int(w/(h**2))\n",
    "\n",
    "print(f\" body mass index(bmi) is: {bmi}\" )"
   ]
  },
  {
   "cell_type": "markdown",
   "id": "9f0cfde3-6c04-43cc-b8ab-4c4f22c375c0",
   "metadata": {},
   "source": [
    "4. Write a Python Program to calculate the natural logarithm of any number?"
   ]
  },
  {
   "cell_type": "code",
   "execution_count": 11,
   "id": "c230415d-02f2-4b7f-95b4-57405720fe2b",
   "metadata": {},
   "outputs": [
    {
     "name": "stdin",
     "output_type": "stream",
     "text": [
      "enter the number 4\n"
     ]
    },
    {
     "name": "stdout",
     "output_type": "stream",
     "text": [
      "natural logarithm of number 4 is: 1.3862943611198906\n"
     ]
    }
   ],
   "source": [
    "x = int(input(\"enter the number\"))\n",
    "import math\n",
    "log = math.log(x)\n",
    "print(f\"natural logarithm of number {x} is: {log}\")"
   ]
  },
  {
   "cell_type": "markdown",
   "id": "3092f7bd-35db-43ec-b9bb-ebcdab6a239a",
   "metadata": {},
   "source": [
    "5. Write a Python Program for cube sum of first n natural numbers?"
   ]
  },
  {
   "cell_type": "code",
   "execution_count": 17,
   "id": "28529d62-6ea4-4653-9c8c-020a4a562369",
   "metadata": {},
   "outputs": [
    {
     "name": "stdin",
     "output_type": "stream",
     "text": [
      "enter a number 4\n"
     ]
    },
    {
     "name": "stdout",
     "output_type": "stream",
     "text": [
      "1\n",
      "9\n",
      "36\n",
      "100\n"
     ]
    }
   ],
   "source": [
    "x = int(input(\"enter a number\"))\n",
    "sum = 0\n",
    "for i in range(1,x+1):\n",
    "    sum = sum + i**3\n",
    "    print(f\"{sum}\")"
   ]
  },
  {
   "cell_type": "code",
   "execution_count": null,
   "id": "095e2d24-7aae-4794-9eea-3b31ad2bd0b3",
   "metadata": {},
   "outputs": [],
   "source": []
  }
 ],
 "metadata": {
  "kernelspec": {
   "display_name": "Python 3 (ipykernel)",
   "language": "python",
   "name": "python3"
  },
  "language_info": {
   "codemirror_mode": {
    "name": "ipython",
    "version": 3
   },
   "file_extension": ".py",
   "mimetype": "text/x-python",
   "name": "python",
   "nbconvert_exporter": "python",
   "pygments_lexer": "ipython3",
   "version": "3.10.6"
  }
 },
 "nbformat": 4,
 "nbformat_minor": 5
}
