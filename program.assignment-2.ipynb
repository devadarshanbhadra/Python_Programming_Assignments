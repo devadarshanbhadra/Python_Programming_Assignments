{
 "cells": [
  {
   "cell_type": "markdown",
   "id": "2afd91fb-5d83-46b9-a955-c59f9df40076",
   "metadata": {},
   "source": [
    "1. Write a Python program to convert kilometers to miles?"
   ]
  },
  {
   "cell_type": "code",
   "execution_count": 11,
   "id": "b81febab-28b3-4681-8ab2-7c603939f03d",
   "metadata": {},
   "outputs": [
    {
     "name": "stdin",
     "output_type": "stream",
     "text": [
      "enter distance in kilometers 10\n"
     ]
    },
    {
     "name": "stdout",
     "output_type": "stream",
     "text": [
      "kilometers is: 10 miles: 6.2\n"
     ]
    }
   ],
   "source": [
    "km = int(input(\"enter distance in kilometers\"))\n",
    "\n",
    "miles = float((km*0.62))\n",
    "print(f\"kilometers is: {km} miles: {miles}\")"
   ]
  },
  {
   "cell_type": "markdown",
   "id": "cf697bef-91a4-4f1f-bd41-ff37835cd10a",
   "metadata": {},
   "source": [
    "2. Write a Python program to convert Celsius to Fahrenheit?"
   ]
  },
  {
   "cell_type": "code",
   "execution_count": 13,
   "id": "5e7d91b2-9acc-4077-9364-fab74d4cb566",
   "metadata": {},
   "outputs": [
    {
     "name": "stdin",
     "output_type": "stream",
     "text": [
      "enter value of temperature 98\n"
     ]
    },
    {
     "name": "stdout",
     "output_type": "stream",
     "text": [
      "\n",
      "temperature in celsius: 98|\n",
      "temperature in fahrenheit: 208.4\n",
      "\n"
     ]
    }
   ],
   "source": [
    "celsius = int(input(\"enter value of temperature\"))\n",
    "fahrenheit = float((celsius*9/5) + 32)\n",
    "print(f\"\"\"\n",
    "temperature in celsius: {celsius}|\n",
    "temperature in fahrenheit: {fahrenheit}\n",
    "\"\"\")"
   ]
  },
  {
   "cell_type": "markdown",
   "id": "e4812444-26c8-483d-845f-69c1b35c6352",
   "metadata": {},
   "source": [
    "3. Write a Python program to display calendar?"
   ]
  },
  {
   "cell_type": "code",
   "execution_count": 14,
   "id": "ccef4b16-5e24-4f40-bdf4-b0325b611631",
   "metadata": {},
   "outputs": [],
   "source": [
    "import calendar"
   ]
  },
  {
   "cell_type": "code",
   "execution_count": 18,
   "id": "ae5591af-6ad2-420a-b503-40f75ca54e54",
   "metadata": {},
   "outputs": [
    {
     "name": "stdin",
     "output_type": "stream",
     "text": [
      "enter year 2023\n",
      "enter month in number 2\n"
     ]
    },
    {
     "name": "stdout",
     "output_type": "stream",
     "text": [
      "   February 2023\n",
      "Mo Tu We Th Fr Sa Su\n",
      "       1  2  3  4  5\n",
      " 6  7  8  9 10 11 12\n",
      "13 14 15 16 17 18 19\n",
      "20 21 22 23 24 25 26\n",
      "27 28\n",
      "\n"
     ]
    }
   ],
   "source": [
    "yy = int(input(\"enter year\"))\n",
    "mm = int(input(\"enter month in number\"))\n",
    "print(calendar.month(yy,mm))"
   ]
  },
  {
   "cell_type": "markdown",
   "id": "33a18ab0-b0d2-4a4a-a35e-0fafea4150a4",
   "metadata": {},
   "source": [
    "4. Write a Python program to solve quadratic equation?"
   ]
  },
  {
   "cell_type": "code",
   "execution_count": 19,
   "id": "74e38bdd-41c0-442c-80b1-949cc195e605",
   "metadata": {},
   "outputs": [],
   "source": [
    "import cmath"
   ]
  },
  {
   "cell_type": "code",
   "execution_count": 23,
   "id": "84901c71-b9cf-4e79-be2a-ab420bf8dfd0",
   "metadata": {},
   "outputs": [
    {
     "name": "stdout",
     "output_type": "stream",
     "text": [
      "The Quadratic equations are:\n",
      "answer 1: (-3+0j)\n",
      "answer 2: (-2+0j)\n",
      "\n"
     ]
    }
   ],
   "source": [
    "a = 1\n",
    "b = 5\n",
    "c = 6\n",
    "dis = (b**2) - (4*a*c)\n",
    "ans1 = (-b-cmath.sqrt(dis))/(2*a)\n",
    "ans2 = (-b+cmath.sqrt(dis))/(2*a)\n",
    "\n",
    "print(f\"\"\"The Quadratic equations are:\n",
    "answer 1: {ans1}\n",
    "answer 2: {ans2}\n",
    "\"\"\")"
   ]
  },
  {
   "cell_type": "markdown",
   "id": "e366de9c-dabc-43c9-8161-33fee0d37616",
   "metadata": {},
   "source": [
    "5. Write a Python program to swap two variables without temp variable?"
   ]
  },
  {
   "cell_type": "code",
   "execution_count": 24,
   "id": "33f107c5-3326-49ab-9cff-9ae5f8c705e1",
   "metadata": {},
   "outputs": [
    {
     "name": "stdin",
     "output_type": "stream",
     "text": [
      "enter first variable 100\n",
      "enter second variable 200\n"
     ]
    },
    {
     "name": "stdout",
     "output_type": "stream",
     "text": [
      "\n",
      "first_varibale: 200 | \n",
      "second_variable: 100\n",
      "\n"
     ]
    }
   ],
   "source": [
    "first_variable = input(\"enter first variable\")\n",
    "second_variable = input(\"enter second variable\")\n",
    "\n",
    "first_variable, second_variable = second_variable , first_variable\n",
    "print(f\"\"\"\n",
    "first_varibale: {first_variable} | \n",
    "second_variable: {second_variable}\n",
    "\"\"\")"
   ]
  },
  {
   "cell_type": "code",
   "execution_count": null,
   "id": "2f9dd35c-28a3-4bd7-96e7-d07038f08da7",
   "metadata": {},
   "outputs": [],
   "source": []
  }
 ],
 "metadata": {
  "kernelspec": {
   "display_name": "Python 3 (ipykernel)",
   "language": "python",
   "name": "python3"
  },
  "language_info": {
   "codemirror_mode": {
    "name": "ipython",
    "version": 3
   },
   "file_extension": ".py",
   "mimetype": "text/x-python",
   "name": "python",
   "nbconvert_exporter": "python",
   "pygments_lexer": "ipython3",
   "version": "3.10.6"
  }
 },
 "nbformat": 4,
 "nbformat_minor": 5
}
