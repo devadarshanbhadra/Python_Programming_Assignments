{
 "cells": [
  {
   "cell_type": "markdown",
   "id": "9bca6b59-ab81-46fe-ae85-68a9fbfc2b13",
   "metadata": {},
   "source": [
    "1. Write a Python program to print &quot;Hello Python&quot;?"
   ]
  },
  {
   "cell_type": "code",
   "execution_count": 44,
   "id": "466a97c0-ac2e-4225-ad0f-cc2e216a4a77",
   "metadata": {},
   "outputs": [
    {
     "name": "stdin",
     "output_type": "stream",
     "text": [
      "Enter what you want to print Hello python\n"
     ]
    },
    {
     "name": "stdout",
     "output_type": "stream",
     "text": [
      "Hello python\n"
     ]
    }
   ],
   "source": [
    "input(\"Enter what you want to print\")\n",
    "print(\"Hello python\")"
   ]
  },
  {
   "cell_type": "markdown",
   "id": "8787877c-aed3-44d8-9e5a-ea8dd8c29269",
   "metadata": {},
   "source": [
    "2. Write a Python program to do arithmetical operations addition and division.?"
   ]
  },
  {
   "cell_type": "code",
   "execution_count": 6,
   "id": "979d9fda-c709-494e-b4a8-1ad1d4397cf7",
   "metadata": {},
   "outputs": [],
   "source": [
    "def add(a,b):\n",
    "    return(a + b)"
   ]
  },
  {
   "cell_type": "code",
   "execution_count": 7,
   "id": "7aeff8fb-b15b-4b9d-96e1-a20959408f74",
   "metadata": {},
   "outputs": [
    {
     "data": {
      "text/plain": [
       "8"
      ]
     },
     "execution_count": 7,
     "metadata": {},
     "output_type": "execute_result"
    }
   ],
   "source": [
    "add(3,5)"
   ]
  },
  {
   "cell_type": "code",
   "execution_count": 24,
   "id": "a8b4361e-2f92-4b0a-ab04-a4902913af18",
   "metadata": {},
   "outputs": [],
   "source": [
    "def divide(a,b):\n",
    "    return(a/b)"
   ]
  },
  {
   "cell_type": "code",
   "execution_count": 25,
   "id": "6080baeb-0136-400f-be51-deafb7c6e454",
   "metadata": {},
   "outputs": [
    {
     "data": {
      "text/plain": [
       "2.0"
      ]
     },
     "execution_count": 25,
     "metadata": {},
     "output_type": "execute_result"
    }
   ],
   "source": [
    "divide(8,4)"
   ]
  },
  {
   "cell_type": "markdown",
   "id": "775ac9fc-574b-44e8-877d-5b6d2946755f",
   "metadata": {},
   "source": [
    "3. Write a Python program to find the area of a triangle?"
   ]
  },
  {
   "cell_type": "code",
   "execution_count": 45,
   "id": "db2ac526-67e7-4969-b24e-fcd08ae7feaf",
   "metadata": {},
   "outputs": [
    {
     "name": "stdin",
     "output_type": "stream",
     "text": [
      "enter base value of trinagle 20\n",
      "enter height value of trinagle 30\n"
     ]
    },
    {
     "name": "stdout",
     "output_type": "stream",
     "text": [
      "\n",
      "base value of triangle: 20|\n",
      "height of triangle: 30 | \n",
      "The area of triangle is: 300.0\n",
      "\n"
     ]
    }
   ],
   "source": [
    " base = int(input(\"enter base value of trinagle\"))\n",
    " height = int(input(\"enter height value of trinagle\"))\n",
    " area = int(base*height)/2\n",
    "\n",
    "print(f\"\"\"\n",
    "base value of triangle: {base}|\n",
    "height of triangle: {height} | \n",
    "The area of triangle is: {area}\n",
    "\"\"\")"
   ]
  },
  {
   "cell_type": "markdown",
   "id": "85cc09f4-8d95-4d11-9878-247433da1ec1",
   "metadata": {},
   "source": [
    "4. Write a Python program to swap two variables?"
   ]
  },
  {
   "cell_type": "code",
   "execution_count": 46,
   "id": "62a94200-ea7f-42d7-a4d7-cd4194f02ca4",
   "metadata": {},
   "outputs": [
    {
     "name": "stdin",
     "output_type": "stream",
     "text": [
      "enter first variable 5\n",
      "enter second variable 10\n"
     ]
    },
    {
     "name": "stdout",
     "output_type": "stream",
     "text": [
      "\n",
      "first_varibale: 10 | \n",
      "second_variable: 5\n",
      "\n"
     ]
    }
   ],
   "source": [
    "first_variable = input(\"enter first variable\")\n",
    "second_variable = input(\"enter second variable\")\n",
    "\n",
    "first_variable, second_variable = second_variable , first_variable\n",
    "print(f\"\"\"\n",
    "first_varibale: {first_variable} | \n",
    "second_variable: {second_variable}\n",
    "\"\"\")"
   ]
  },
  {
   "cell_type": "markdown",
   "id": "0edd81b3-4f02-47fa-ab47-7d04cd793996",
   "metadata": {},
   "source": [
    "5. Write a Python program to generate a random number?"
   ]
  },
  {
   "cell_type": "code",
   "execution_count": 42,
   "id": "9bb39264-9b97-4ad0-90db-db2724898797",
   "metadata": {},
   "outputs": [],
   "source": [
    "import random"
   ]
  },
  {
   "cell_type": "code",
   "execution_count": 43,
   "id": "6549cc0c-0275-492c-b240-9ce944e1bb9e",
   "metadata": {},
   "outputs": [
    {
     "name": "stdout",
     "output_type": "stream",
     "text": [
      "0.8596560891919807\n"
     ]
    }
   ],
   "source": [
    "num = random.random()\n",
    "print(num)"
   ]
  },
  {
   "cell_type": "code",
   "execution_count": null,
   "id": "4e678856-c066-4a82-947e-4db2c5d02948",
   "metadata": {},
   "outputs": [],
   "source": []
  }
 ],
 "metadata": {
  "kernelspec": {
   "display_name": "Python 3 (ipykernel)",
   "language": "python",
   "name": "python3"
  },
  "language_info": {
   "codemirror_mode": {
    "name": "ipython",
    "version": 3
   },
   "file_extension": ".py",
   "mimetype": "text/x-python",
   "name": "python",
   "nbconvert_exporter": "python",
   "pygments_lexer": "ipython3",
   "version": "3.10.6"
  }
 },
 "nbformat": 4,
 "nbformat_minor": 5
}
