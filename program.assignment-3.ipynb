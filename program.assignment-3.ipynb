{
 "cells": [
  {
   "cell_type": "markdown",
   "id": "a25c09b3-ed4e-410b-94f3-314bc5e75147",
   "metadata": {},
   "source": [
    "1. Write a Python Program to Check if a Number is Positive, Negative or Zero?"
   ]
  },
  {
   "cell_type": "code",
   "execution_count": 5,
   "id": "61777b77-8f94-4ede-bba4-f70070b9d1b6",
   "metadata": {},
   "outputs": [
    {
     "name": "stdin",
     "output_type": "stream",
     "text": [
      "Enter a number 0\n"
     ]
    },
    {
     "name": "stdout",
     "output_type": "stream",
     "text": [
      "the number is o and positive\n"
     ]
    }
   ],
   "source": [
    "x = int(input(\"Enter a number\"))\n",
    "if x >= 0:\n",
    "    print(\"the number is o and positive\")\n",
    "else:\n",
    "    print(\"the number is negative\")"
   ]
  },
  {
   "cell_type": "code",
   "execution_count": 3,
   "id": "87ad28c0-291f-4cb1-bccc-a03f51969f20",
   "metadata": {},
   "outputs": [
    {
     "name": "stdin",
     "output_type": "stream",
     "text": [
      "Enter a number -12\n"
     ]
    },
    {
     "name": "stdout",
     "output_type": "stream",
     "text": [
      "the number is negative\n"
     ]
    }
   ],
   "source": [
    "x = int(input(\"Enter a number\"))\n",
    "if x >= 0:\n",
    "    print(\"the number is o and positive\")\n",
    "else:\n",
    "    print(\"the number is negative\")"
   ]
  },
  {
   "cell_type": "code",
   "execution_count": 7,
   "id": "49aea909-beae-4d9b-9034-0609c878905d",
   "metadata": {},
   "outputs": [
    {
     "name": "stdin",
     "output_type": "stream",
     "text": [
      "Enter a number 0\n"
     ]
    },
    {
     "name": "stdout",
     "output_type": "stream",
     "text": [
      "the number is o\n"
     ]
    }
   ],
   "source": [
    "x = int(input(\"Enter a number\"))\n",
    "if x == 0:\n",
    "    print(\"the number is o\")\n",
    "else:\n",
    "    print(\"the number is negative\")"
   ]
  },
  {
   "cell_type": "markdown",
   "id": "40a5e48f-b203-4385-ae1a-a463f2f5130f",
   "metadata": {},
   "source": [
    "2. Write a Python Program to Check if a Number is Odd or Even?"
   ]
  },
  {
   "cell_type": "code",
   "execution_count": 10,
   "id": "a866e342-59cd-4ea4-99f7-2641f1ffa7a3",
   "metadata": {},
   "outputs": [
    {
     "name": "stdin",
     "output_type": "stream",
     "text": [
      "enter a number 77\n"
     ]
    },
    {
     "name": "stdout",
     "output_type": "stream",
     "text": [
      "The number X = 77 is odd\n"
     ]
    }
   ],
   "source": [
    "x = int(input(\"enter a number\"))\n",
    "if x%2 == 0:\n",
    "    print(f\"The number X= {x} is even\")\n",
    "else:\n",
    "    print(f\"The number X = {x} is odd\")"
   ]
  },
  {
   "cell_type": "code",
   "execution_count": 11,
   "id": "f5e83ef1-a29b-4395-b820-704e82e6671d",
   "metadata": {},
   "outputs": [
    {
     "name": "stdin",
     "output_type": "stream",
     "text": [
      "enter a number 16\n"
     ]
    },
    {
     "name": "stdout",
     "output_type": "stream",
     "text": [
      "The number X= 16 is even\n"
     ]
    }
   ],
   "source": [
    "x = int(input(\"enter a number\"))\n",
    "if x%2 == 0:\n",
    "    print(f\"The number X= {x} is even\")\n",
    "else:\n",
    "    print(f\"The number X = {x} is odd\")"
   ]
  },
  {
   "cell_type": "markdown",
   "id": "75c7584b-d12f-4492-aa20-c95d63fc9247",
   "metadata": {},
   "source": [
    "3. Write a Python Program to Check Leap Year?"
   ]
  },
  {
   "cell_type": "code",
   "execution_count": 12,
   "id": "046a4019-5176-4c6d-9f7c-9ba4933c7d36",
   "metadata": {},
   "outputs": [
    {
     "name": "stdin",
     "output_type": "stream",
     "text": [
      "enter year 2023\n"
     ]
    },
    {
     "name": "stdout",
     "output_type": "stream",
     "text": [
      "The year: 2023 is not a leap year\n"
     ]
    }
   ],
   "source": [
    "year = int(input(\"enter year\"))\n",
    "if year%4 == 0:\n",
    "    print(f\"The year: {year} is leap year\")\n",
    "else:\n",
    "    print(f\"The year: {year} is not a leap year\")"
   ]
  },
  {
   "cell_type": "code",
   "execution_count": 13,
   "id": "27774280-1a41-4554-94a8-290b3ccf066d",
   "metadata": {},
   "outputs": [
    {
     "name": "stdin",
     "output_type": "stream",
     "text": [
      "enter year 2020\n"
     ]
    },
    {
     "name": "stdout",
     "output_type": "stream",
     "text": [
      "The year: 2020 is leap year\n"
     ]
    }
   ],
   "source": [
    "year = int(input(\"enter year\"))\n",
    "if year%4 == 0:\n",
    "    print(f\"The year: {year} is leap year\")\n",
    "else:\n",
    "    print(f\"The year: {year} is not a leap year\")"
   ]
  },
  {
   "cell_type": "markdown",
   "id": "6945341c-ceda-48c6-9f2e-24fb34aa7edf",
   "metadata": {},
   "source": [
    "4. Write a Python Program to Check Prime Number?"
   ]
  },
  {
   "cell_type": "code",
   "execution_count": 24,
   "id": "48100705-aabc-4f66-bc4c-89b814d8448e",
   "metadata": {},
   "outputs": [
    {
     "name": "stdin",
     "output_type": "stream",
     "text": [
      "enter the number 41\n"
     ]
    },
    {
     "name": "stdout",
     "output_type": "stream",
     "text": [
      "the number: 41 is a prime number\n"
     ]
    }
   ],
   "source": [
    "    x = int(input(\"enter the number\"))\n",
    "    for i in range(2,x):\n",
    "        if x % i == 0:\n",
    "            print(f\"the number: {x} is not a prime number\")\n",
    "            break\n",
    "    else:\n",
    "            print(f\"the number: {x} is a prime number\")"
   ]
  },
  {
   "cell_type": "markdown",
   "id": "9cc889c9-859b-4fb0-9cd3-fd86a3a1b796",
   "metadata": {},
   "source": [
    "5. Write a Python Program to Print all Prime Numbers in an Interval of 1-10000?"
   ]
  },
  {
   "cell_type": "code",
   "execution_count": 37,
   "id": "269d4548-65f5-42b9-ad09-75f6c0a06ca3",
   "metadata": {},
   "outputs": [
    {
     "ename": "IndentationError",
     "evalue": "expected an indented block after 'if' statement on line 6 (137498632.py, line 9)",
     "output_type": "error",
     "traceback": [
      "\u001b[0;36m  Cell \u001b[0;32mIn [37], line 9\u001b[0;36m\u001b[0m\n\u001b[0;31m    else:\u001b[0m\n\u001b[0m    ^\u001b[0m\n\u001b[0;31mIndentationError\u001b[0m\u001b[0;31m:\u001b[0m expected an indented block after 'if' statement on line 6\n"
     ]
    }
   ],
   "source": [
    "x = int(input(\"enter a number\"))\n",
    "y = int(input(\"enter a number\"))\n",
    "for num in range(x,y):\n",
    "    if num > 1:\n",
    "        for i in range(2,num):\n",
    "               if (num%i) == 0:\n",
    "                #print(f\" {num} is not a prime number\")\n",
    "                \n",
    "    else:\n",
    "        print(f\"{num} is a prime number\")"
   ]
  },
  {
   "cell_type": "code",
   "execution_count": null,
   "id": "f7214ce5-6568-4d7b-8d42-8137863290e3",
   "metadata": {},
   "outputs": [],
   "source": []
  }
 ],
 "metadata": {
  "kernelspec": {
   "display_name": "Python 3 (ipykernel)",
   "language": "python",
   "name": "python3"
  },
  "language_info": {
   "codemirror_mode": {
    "name": "ipython",
    "version": 3
   },
   "file_extension": ".py",
   "mimetype": "text/x-python",
   "name": "python",
   "nbconvert_exporter": "python",
   "pygments_lexer": "ipython3",
   "version": "3.10.6"
  }
 },
 "nbformat": 4,
 "nbformat_minor": 5
}
